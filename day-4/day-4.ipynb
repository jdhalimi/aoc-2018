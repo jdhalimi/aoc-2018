{
 "cells": [
  {
   "cell_type": "markdown",
   "metadata": {},
   "source": [
    "# Avent Of Code 2018 - DAY 4"
   ]
  },
  {
   "cell_type": "markdown",
   "metadata": {},
   "source": [
    "Jean-David HALIMI, 2018\n",
    "\n",
    "https://adventofcode.com/2018/day/4"
   ]
  },
  {
   "cell_type": "markdown",
   "metadata": {},
   "source": [
    "## strategy\n",
    "- read input\n",
    "- sort alphabetically\n",
    "- parse lines and build list (date, guard, minutes)\n",
    "- use pandas dataframes to sum and search asleep time\n",
    "\n"
   ]
  },
  {
   "cell_type": "code",
   "execution_count": 1,
   "metadata": {},
   "outputs": [],
   "source": [
    "import re\n",
    "import numpy as np\n",
    "import pandas as pd\n",
    "\n",
    "\n",
    "def dumps(line):\n",
    "    \"\"\"writes the date as in sample\"\"\"\n",
    "    d, g, l = line[0], line[1], line[2:]\n",
    "    return '{} {:04} {}'.format(d, g, ''.join(('#' if x else '.') for x in l))\n",
    "\n",
    "\n",
    "def read(input_file):\n",
    "    \"\"\"reads input and returns input sorted\"\"\"\n",
    "    inputs = []\n",
    "    with open(input_file) as f:\n",
    "        for l in f:\n",
    "            inputs.append(l.strip())\n",
    "    inputs.sort()\n",
    "    return inputs\n",
    "\n",
    "\n",
    "def parse_input(inputs):\n",
    "    \"\"\"parse input to represent minutes as 0 or 1\"\"\"\n",
    "    begin = re.compile(r\"\\[([0-9]+)-([0-9]+)-([0-9]+) ([0-9]+):([0-9]+)\\] Guard #([0-9]+) begins shift\")\n",
    "    wakes_up = re.compile(r\"\\[([0-9]+)-([0-9]+)-([0-9]+) ([0-9]+):([0-9]+)\\] wakes up\")\n",
    "    asleep = re.compile(r\"\\[([0-9]+)-([0-9]+)-([0-9]+) ([0-9]+):([0-9]+)\\] falls asleep\")\n",
    "\n",
    "    state = 0\n",
    "    g = 0\n",
    "    lines = []\n",
    "    for l in inputs:\n",
    "        l = l.strip()\n",
    "        b = begin.match(l.strip())\n",
    "        w = wakes_up.match(l.strip())\n",
    "        a = asleep.match(l.strip())\n",
    "\n",
    "        if b:\n",
    "            y, m, d, h, mi, g = (int(x) for x in b.groups())\n",
    "            state = 0\n",
    "            continue\n",
    "        elif w:\n",
    "            y, m, d, h, mi = (int(x) for x in w.groups())\n",
    "            state = 0\n",
    "        elif a:\n",
    "            y, m, d, h, mi =(int(x) for x in a.groups())\n",
    "            state = 1\n",
    "        else:\n",
    "            continue\n",
    "        \n",
    "        if not lines or lines[-1][0] != (y, m, d, g):\n",
    "            lines.append([(y, m, d, g),[1-state] * 60])\n",
    "        lines[-1][1] = lines[-1][1][0:mi]+([state] * (60-mi))\n",
    "\n",
    "    return [['{}-{:02}-{:02}'.format(y, m, d), g] + l for (y, m, d, g), l in lines]\n",
    "                "
   ]
  },
  {
   "cell_type": "markdown",
   "metadata": {},
   "source": [
    "## Sample\n",
    "- read sample\n",
    "- apply the strategy"
   ]
  },
  {
   "cell_type": "code",
   "execution_count": 2,
   "metadata": {},
   "outputs": [
    {
     "name": "stdout",
     "output_type": "stream",
     "text": [
      "1518-11-01 0010 .....####################.....#########################.....\n",
      "1518-11-02 0099 ........................................##########..........\n",
      "1518-11-03 0010 ........................#####...............................\n",
      "1518-11-04 0099 ....................................##########..............\n",
      "1518-11-05 0099 .............................................##########.....\n"
     ]
    }
   ],
   "source": [
    "def sample():\n",
    "    return [x.strip() for x in \n",
    "            \"\"\"\n",
    "                [1518-11-01 00:00] Guard #10 begins shift\n",
    "                [1518-11-01 00:05] falls asleep\n",
    "                [1518-11-01 00:25] wakes up\n",
    "                [1518-11-01 00:30] falls asleep\n",
    "                [1518-11-01 00:55] wakes up\n",
    "                [1518-11-01 23:58] Guard #99 begins shift\n",
    "                [1518-11-02 00:40] falls asleep\n",
    "                [1518-11-02 00:50] wakes up\n",
    "                [1518-11-03 00:05] Guard #10 begins shift\n",
    "                [1518-11-03 00:24] falls asleep\n",
    "                [1518-11-03 00:29] wakes up\n",
    "                [1518-11-04 00:02] Guard #99 begins shift\n",
    "                [1518-11-04 00:36] falls asleep\n",
    "                [1518-11-04 00:46] wakes up\n",
    "                [1518-11-05 00:03] Guard #99 begins shift\n",
    "                [1518-11-05 00:45] falls asleep\n",
    "                [1518-11-05 00:55] wakes up\n",
    "            \"\"\".split('\\n') if x]\n",
    "\n",
    "inputs = sample()\n",
    "lines = parse_input(inputs)\n",
    "print('\\n'.join(dumps(l) for l in lines))\n"
   ]
  },
  {
   "cell_type": "markdown",
   "metadata": {},
   "source": [
    "## part 1"
   ]
  },
  {
   "cell_type": "code",
   "execution_count": 3,
   "metadata": {},
   "outputs": [],
   "source": [
    "def strategy_1(lines):\n",
    "    # create the dataframe with minutes as columns\n",
    "    df = pd.DataFrame(lines, columns=['date', 'guard']+[str(x) for x in range(60)])\n",
    "    df.set_index(['date', 'guard'], inplace=True)\n",
    "    \n",
    "    # sums the total asleep time per line\n",
    "    df['total'] = df['0':'59'].sum(axis=1)\n",
    "    \n",
    "    # sum columns (minutes + total) by guard\n",
    "    df2 = df.reset_index().set_index(['guard']).drop(['date'], axis=1).groupby('guard').sum()\n",
    "    \n",
    "    # finds the guard with greatest total\n",
    "    guard = df2['total'].idxmax()\n",
    "    \n",
    "    # sum all columns (after drop total) for this guard\n",
    "    minute = int(df2.drop(['total'], axis=1).loc[guard].idxmax())\n",
    "    \n",
    "    return guard * minute"
   ]
  },
  {
   "cell_type": "markdown",
   "metadata": {},
   "source": [
    "### sample"
   ]
  },
  {
   "cell_type": "code",
   "execution_count": 4,
   "metadata": {},
   "outputs": [
    {
     "name": "stdout",
     "output_type": "stream",
     "text": [
      "240\n"
     ]
    }
   ],
   "source": [
    "lines = parse_input(sample())\n",
    "print(strategy_1(lines))"
   ]
  },
  {
   "cell_type": "markdown",
   "metadata": {},
   "source": [
    "### input file"
   ]
  },
  {
   "cell_type": "code",
   "execution_count": 5,
   "metadata": {},
   "outputs": [
    {
     "name": "stdout",
     "output_type": "stream",
     "text": [
      "19874\n"
     ]
    }
   ],
   "source": [
    "lines = parse_input(read('input.txt'))\n",
    "print(strategy_1(lines))"
   ]
  },
  {
   "cell_type": "markdown",
   "metadata": {},
   "source": [
    "## Part 2"
   ]
  },
  {
   "cell_type": "code",
   "execution_count": 6,
   "metadata": {},
   "outputs": [],
   "source": [
    "def strategy_2(lines):\n",
    "    df = pd.DataFrame(lines, columns=['date', 'guard']+[str(x) for x in range(60)])\n",
    "    df.set_index(['date', 'guard'], inplace=True)\n",
    "    \n",
    "    # sum group by guard\n",
    "    df2 = df.reset_index().set_index(['guard']).drop(['date'], axis=1).groupby('guard').sum()\n",
    "    guard = df2.max(axis=1).idxmax()\n",
    "    minute = df2.loc[guard].idxmax()\n",
    "    minute = int(minute)\n",
    "    return guard * minute"
   ]
  },
  {
   "cell_type": "markdown",
   "metadata": {},
   "source": [
    "### Sample"
   ]
  },
  {
   "cell_type": "code",
   "execution_count": 7,
   "metadata": {},
   "outputs": [
    {
     "name": "stdout",
     "output_type": "stream",
     "text": [
      "4455\n"
     ]
    }
   ],
   "source": [
    "lines = parse_input(sample())\n",
    "print(strategy_2(lines))"
   ]
  },
  {
   "cell_type": "markdown",
   "metadata": {},
   "source": [
    "### Input file"
   ]
  },
  {
   "cell_type": "code",
   "execution_count": 8,
   "metadata": {},
   "outputs": [
    {
     "name": "stdout",
     "output_type": "stream",
     "text": [
      "22687\n"
     ]
    }
   ],
   "source": [
    "lines = parse_input(read('input.txt'))\n",
    "print(strategy_2(lines))"
   ]
  },
  {
   "cell_type": "code",
   "execution_count": null,
   "metadata": {},
   "outputs": [],
   "source": []
  }
 ],
 "metadata": {
  "kernelspec": {
   "display_name": "Python 3",
   "language": "python",
   "name": "python3"
  },
  "language_info": {
   "codemirror_mode": {
    "name": "ipython",
    "version": 3
   },
   "file_extension": ".py",
   "mimetype": "text/x-python",
   "name": "python",
   "nbconvert_exporter": "python",
   "pygments_lexer": "ipython3",
   "version": "3.6.6"
  }
 },
 "nbformat": 4,
 "nbformat_minor": 2
}
