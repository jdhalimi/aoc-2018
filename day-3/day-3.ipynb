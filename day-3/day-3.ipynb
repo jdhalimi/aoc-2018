{
 "cells": [
  {
   "cell_type": "markdown",
   "metadata": {},
   "source": [
    "# Avent Of Code 2018 - DAY 3"
   ]
  },
  {
   "cell_type": "markdown",
   "metadata": {},
   "source": [
    "Jean-David HALIMI, 2018\n",
    "\n",
    "https://adventofcode.com/2018/day/3"
   ]
  },
  {
   "cell_type": "markdown",
   "metadata": {},
   "source": [
    "## strategy\n",
    "\n",
    "- use numpy array, and extend shape if needed\n",
    "- each quare contains the sum of indexes of overlapping sheets\n",
    "- ensure at each step overlapping squares index are greater that sheet index (adding curent index to overlapping squares)\n"
   ]
  },
  {
   "cell_type": "code",
   "execution_count": 1,
   "metadata": {
    "collapsed": false
   },
   "outputs": [],
   "source": [
    "import numpy as np\n",
    "\n",
    "\n",
    "def parse(l):\n",
    "    \"\"\"parse input and returns data\"\"\"\n",
    "    l = l.strip()\n",
    "    i, _, xy, dxdy = l.split()\n",
    "    i = int(i.strip('#'))\n",
    "    x, y = (int(x) for x in xy.strip(':').split(','))\n",
    "    dx, dy = (int(x) for x in dxdy.split('x'))\n",
    "    return i, x, y, dx, dy\n",
    "\n",
    "\n",
    "def append(i, x, y, dx, dy, m):\n",
    "    \"\"\"appends the sheet to the matrix, and extend it if needed\n",
    "    returns the matrix\n",
    "    \"\"\"        \n",
    "    \n",
    "    # shifts max value to be over index\n",
    "    m[ m > i-1 ] += i    \n",
    "    \n",
    "    # check for extension\n",
    "    ny, nx = m.shape    \n",
    "    if x + dx >= nx or y + dy >= ny:\n",
    "        tmp = np.full((max(y +  dy, ny), max(x + dx, nx)), 0, dtype=int)\n",
    "        tmp[:ny, :nx] = m\n",
    "        m = tmp\n",
    "\n",
    "    m[y:y + dy, x:x + dx] = m[y:y + dy, x:x + dx] + np.full((dy, dx), i, dtype=int)\n",
    "    return m\n",
    "        \n",
    "\n",
    "def read(input_file):\n",
    "    \"\"\"read data, parse lines and append to array\n",
    "    returns resulting, and last index\n",
    "    \"\"\"\n",
    "    m = np.full((1,1), 0)\n",
    "    with open(input_file) as f:\n",
    "        for l in f:\n",
    "            i, x, y, dx, dy = parse(l)\n",
    "            m = append(i, x, y, dx, dy, m)        \n",
    "    return m, i\n",
    "\n"
   ]
  },
  {
   "cell_type": "markdown",
   "metadata": {},
   "source": [
    "## part 1\n",
    "\n",
    "- Reads and aggregate the sheets in np.array\n",
    "- The squares with value greater than last_index are overlapping"
   ]
  },
  {
   "cell_type": "code",
   "execution_count": 2,
   "metadata": {
    "collapsed": false
   },
   "outputs": [
    {
     "name": "stdout",
     "output_type": "stream",
     "text": [
      "Overlap squares: 121163\n"
     ]
    }
   ],
   "source": [
    "m, last_index = read('input.txt')\n",
    "print ('Overlap squares: {}'.format((m > last_index).sum()))"
   ]
  },
  {
   "cell_type": "markdown",
   "metadata": {},
   "source": [
    "## part 2\n",
    "\n",
    "- read the matrix again\n",
    "- for each sheet, test the intersection \n",
    "- if all squares contains sheet index, that means that there is not overlap"
   ]
  },
  {
   "cell_type": "code",
   "execution_count": 3,
   "metadata": {
    "collapsed": false
   },
   "outputs": [],
   "source": [
    "def test_overlapping(i, x, y, dx, dy, m):\n",
    "    \"\"\"check intersection, compares index\"\"\"    \n",
    "    return (m[y:y + dy, x:x + dx] == i).all()\n",
    "\n",
    "        \n",
    "def print_non_overlapping(input_file):\n",
    "    \"\"\"solving part 2\"\"\"\n",
    "    \n",
    "    # reads the matrix\n",
    "    m, _ = read(input_file)\n",
    "    \n",
    "    # check all inputs\n",
    "    with open(input_file) as f:\n",
    "        for l in f:    \n",
    "            i, x, y, dx, dy = parse(l)\n",
    "            if test_overlapping(i, x, y, dx, dy, m):\n",
    "                print (i)"
   ]
  },
  {
   "cell_type": "code",
   "execution_count": 4,
   "metadata": {
    "collapsed": false
   },
   "outputs": [
    {
     "name": "stdout",
     "output_type": "stream",
     "text": [
      "943\n"
     ]
    }
   ],
   "source": [
    "print_non_overlapping('input.txt')"
   ]
  },
  {
   "cell_type": "code",
   "execution_count": null,
   "metadata": {
    "collapsed": true
   },
   "outputs": [],
   "source": []
  }
 ],
 "metadata": {
  "kernelspec": {
   "display_name": "Python 3",
   "language": "python",
   "name": "python3"
  },
  "language_info": {
   "codemirror_mode": {
    "name": "ipython",
    "version": 3
   },
   "file_extension": ".py",
   "mimetype": "text/x-python",
   "name": "python",
   "nbconvert_exporter": "python",
   "pygments_lexer": "ipython3",
   "version": "3.6.2"
  }
 },
 "nbformat": 4,
 "nbformat_minor": 2
}
