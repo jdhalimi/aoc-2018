{
 "cells": [
  {
   "cell_type": "markdown",
   "metadata": {},
   "source": [
    "# Avent Of Code 2018 - DAY 2"
   ]
  },
  {
   "cell_type": "markdown",
   "metadata": {},
   "source": [
    "Jean-David HALIMI, 2018\n",
    "\n",
    "https://adventofcode.com/"
   ]
  },
  {
   "cell_type": "markdown",
   "metadata": {},
   "source": [
    "## part 1"
   ]
  },
  {
   "cell_type": "code",
   "execution_count": 1,
   "metadata": {},
   "outputs": [
    {
     "name": "stdout",
     "output_type": "stream",
     "text": [
      "7688\n"
     ]
    }
   ],
   "source": [
    "from collections import defaultdict\n",
    "from functools import reduce\n",
    "import operator\n",
    "\n",
    "def read():\n",
    "    lines = []\n",
    "    with open('input-2.txt') as f:\n",
    "        for l in f:\n",
    "            lines.append(l.strip())\n",
    "    return lines\n",
    "\n",
    "def parse(l):\n",
    "    m = defaultdict(int)\n",
    "    for a in l:\n",
    "        m[a] += 1\n",
    "    return { i for i in m.values() if i > 1}\n",
    "\n",
    "lines = read()\n",
    "m = defaultdict(int)\n",
    "for l in lines:\n",
    "    d = parse(l)\n",
    "    for k in d:\n",
    "        m[k] += 1\n",
    "result = reduce(operator.mul, m.values(), 1)\n",
    "print(result)\n"
   ]
  },
  {
   "cell_type": "markdown",
   "metadata": {},
   "source": [
    "## part 2"
   ]
  },
  {
   "cell_type": "code",
   "execution_count": 2,
   "metadata": {},
   "outputs": [
    {
     "name": "stdout",
     "output_type": "stream",
     "text": [
      "lsrivmotzbdxpkxnaqmuwcchj\n"
     ]
    }
   ],
   "source": [
    "from itertools import product\n",
    "\n",
    "s = 0\n",
    "best = None\n",
    "for a, b in product(enumerate(lines), enumerate(lines)):\n",
    "    if a[0] == b[0]:\n",
    "        continue\n",
    "    ss = sum(1 for aa, bb in zip(a[1], b[1]) if aa == bb)\n",
    "    if ss >= s:\n",
    "        s = ss\n",
    "        best = (a, b)\n",
    "\n",
    "a, b = best\n",
    "result = ''.join(aa for aa, bb in zip(a[1], b[1]) if aa == bb)\n",
    "print(result)"
   ]
  },
  {
   "cell_type": "code",
   "execution_count": null,
   "metadata": {},
   "outputs": [],
   "source": []
  }
 ],
 "metadata": {
  "kernelspec": {
   "display_name": "Python 3",
   "language": "python",
   "name": "python3"
  },
  "language_info": {
   "codemirror_mode": {
    "name": "ipython",
    "version": 3
   },
   "file_extension": ".py",
   "mimetype": "text/x-python",
   "name": "python",
   "nbconvert_exporter": "python",
   "pygments_lexer": "ipython3",
   "version": "3.6.6"
  }
 },
 "nbformat": 4,
 "nbformat_minor": 2
}
