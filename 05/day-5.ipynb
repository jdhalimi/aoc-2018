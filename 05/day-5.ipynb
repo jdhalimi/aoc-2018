{
 "cells": [
  {
   "cell_type": "markdown",
   "metadata": {},
   "source": [
    "# Avent Of Code 2018 - DAY 5"
   ]
  },
  {
   "cell_type": "markdown",
   "metadata": {},
   "source": [
    "Jean-David HALIMI, 2018\n",
    "\n",
    "https://adventofcode.com/2018/day/5"
   ]
  },
  {
   "cell_type": "markdown",
   "metadata": {},
   "source": [
    "## strategy\n",
    "- brute force\n",
    "- string replace\n"
   ]
  },
  {
   "cell_type": "code",
   "execution_count": 1,
   "metadata": {},
   "outputs": [
    {
     "name": "stdout",
     "output_type": "stream",
     "text": [
      "aA bB cC dD eE fF gG hH iI jJ kK lL mM nN oO pP qQ rR sS tT uU vV wW xX yY zZ Aa Bb Cc Dd Ee Ff Gg Hh Ii Jj Kk Ll Mm Nn Oo Pp Qq Rr Ss Tt Uu Vv Ww Xx Yy Zz\n"
     ]
    }
   ],
   "source": [
    "UNITS = 'abcdefghijklmnopqrstuvwxyz'\n",
    "PAIRS = [x+y for x,y in zip(UNITS, UNITS.upper())]+[y+x for x,y in zip(UNITS, UNITS.upper())]\n",
    "print(' '.join(PAIRS))"
   ]
  },
  {
   "cell_type": "code",
   "execution_count": 2,
   "metadata": {},
   "outputs": [],
   "source": [
    "\n",
    "def fully_react(s):\n",
    "    while True:\n",
    "        ss = s\n",
    "        for x in PAIRS:\n",
    "            ss = ss.replace(x,'')\n",
    "        if s == ss:\n",
    "            break\n",
    "        s = ss\n",
    "    return s\n",
    "\n",
    "        \n"
   ]
  },
  {
   "cell_type": "markdown",
   "metadata": {},
   "source": [
    "## part 1"
   ]
  },
  {
   "cell_type": "code",
   "execution_count": 3,
   "metadata": {},
   "outputs": [
    {
     "name": "stdout",
     "output_type": "stream",
     "text": [
      "dabCBAcaDA\n"
     ]
    }
   ],
   "source": [
    "polymer = \"dabAcCaCBAcCcaDA\"\n",
    "print(fully_react(polymer))"
   ]
  },
  {
   "cell_type": "code",
   "execution_count": 4,
   "metadata": {},
   "outputs": [
    {
     "name": "stdout",
     "output_type": "stream",
     "text": [
      "10888\n"
     ]
    }
   ],
   "source": [
    "with open('input.txt') as f:\n",
    "    polymer = f.read().strip()\n",
    "    print(len(fully_react(polymer)))"
   ]
  },
  {
   "cell_type": "markdown",
   "metadata": {},
   "source": [
    "## part 2\n"
   ]
  },
  {
   "cell_type": "code",
   "execution_count": 5,
   "metadata": {},
   "outputs": [],
   "source": [
    "def remove_unit(polymer, unit):\n",
    "    return polymer.replace(unit.lower(), '').replace(unit.upper(), '')\n",
    "\n",
    "def shortest_size(polymer):\n",
    "    return min(len(fully_react(remove_unit(polymer, unit))) for unit in UNITS)\n",
    "    "
   ]
  },
  {
   "cell_type": "code",
   "execution_count": 6,
   "metadata": {},
   "outputs": [
    {
     "name": "stdout",
     "output_type": "stream",
     "text": [
      "4\n"
     ]
    }
   ],
   "source": [
    "polymer = \"dabAcCaCBAcCcaDA\"\n",
    "print(shortest_size(polymer))"
   ]
  },
  {
   "cell_type": "code",
   "execution_count": 7,
   "metadata": {},
   "outputs": [
    {
     "name": "stdout",
     "output_type": "stream",
     "text": [
      "6952\n"
     ]
    }
   ],
   "source": [
    "with open('input.txt') as f:\n",
    "    polymer = f.read().strip()\n",
    "    print(shortest_size(polymer))"
   ]
  },
  {
   "cell_type": "code",
   "execution_count": null,
   "metadata": {},
   "outputs": [],
   "source": []
  }
 ],
 "metadata": {
  "kernelspec": {
   "display_name": "Python 3",
   "language": "python",
   "name": "python3"
  },
  "language_info": {
   "codemirror_mode": {
    "name": "ipython",
    "version": 3
   },
   "file_extension": ".py",
   "mimetype": "text/x-python",
   "name": "python",
   "nbconvert_exporter": "python",
   "pygments_lexer": "ipython3",
   "version": "3.6.6"
  }
 },
 "nbformat": 4,
 "nbformat_minor": 2
}
