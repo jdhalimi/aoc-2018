{
 "cells": [
  {
   "cell_type": "markdown",
   "metadata": {},
   "source": [
    "# Advent Of Code 2018 - DAY 20\n",
    "\n",
    "Jean-David HALIMI, 2018\n",
    "\n",
    "https://adventofcode.com/2018/day/20"
   ]
  },
  {
   "cell_type": "code",
   "execution_count": 1,
   "metadata": {},
   "outputs": [],
   "source": [
    "a = \"^ENWWW(NEEE|SSE(EE|N))$\""
   ]
  },
  {
   "cell_type": "code",
   "execution_count": 210,
   "metadata": {},
   "outputs": [],
   "source": [
    "import numpy as np\n",
    "\n",
    "\n",
    "def dumps(a):\n",
    "    return '\\n'.join(''.join(x) for x in a.tolist())\n",
    "\n",
    "\n",
    "def explore(stream):\n",
    "    x0, y0 =  x, y = 1, 1\n",
    "    stack = [[x0, y0]]\n",
    "    m = np.full((3, 3), '?')\n",
    "    for c in stream:\n",
    "        x0, y0 = stack[0]\n",
    "        if c == '^':\n",
    "            continue\n",
    "        elif c == 'N':\n",
    "            y -= 2\n",
    "            if y < 0:\n",
    "                stack = [[x, y + 2] for x, y in stack]\n",
    "                y = 1\n",
    "                yy, xx = m .shape\n",
    "                xx = np.full((yy + 2, xx), '?')\n",
    "                xx[2:, :] = m\n",
    "                m = xx\n",
    "            m[y, x] = '.'\n",
    "            m[y + 1, x] = '-'\n",
    "            m[y + 1, x + 1] = '#'\n",
    "            m[y + 1, x - 1] = '#'\n",
    "        elif c == 'S':\n",
    "            y += 2\n",
    "            if y >= m.shape[0]:\n",
    "                yy, xx = m .shape\n",
    "                y = yy\n",
    "                xx = np.full((yy + 2, xx), '?')\n",
    "                xx[:-2, :] = m\n",
    "                m = xx\n",
    "            m[y-1, x] = '-'\n",
    "            m[y-1, x+1] = '#'\n",
    "            m[y-1, x-1] = '#'\n",
    "            m[y, x] = '.'\n",
    "        elif c == 'W':\n",
    "            x -= 2\n",
    "            if x < 0:\n",
    "                stack = [[x + 2, y] for x, y in stack]\n",
    "                x = 1\n",
    "                yy, xx = m .shape\n",
    "                tmp = np.full((yy, xx + 2), '?')\n",
    "                tmp[:, 2:] = m\n",
    "                m = tmp\n",
    "            m[y, x] = '.'\n",
    "            m[y, x + 1] = '|'\n",
    "            m[y + 1, x + 1] = '#'\n",
    "            m[y - 1, x + 1] = '#'\n",
    "        elif c == 'E':\n",
    "            x += 2\n",
    "            if x >= m.shape[1]:\n",
    "                yy, xx = m .shape\n",
    "                x = xx\n",
    "                tmp = np.full((yy, xx + 2), '?')\n",
    "                tmp[:, :-2] = m\n",
    "                m = tmp\n",
    "            m[y, x] = '.'\n",
    "            m[y + 1, x - 1] = '#'\n",
    "            m[y + 0, x - 1] = '|'\n",
    "            m[y - 1, x - 1] = '#'\n",
    "        elif c == '(':\n",
    "            stack.append((x, y))\n",
    "        elif c == '|':\n",
    "            x, y = stack[-1]\n",
    "        elif c == ')':\n",
    "            stack.pop()\n",
    "        elif c == '$':\n",
    "            pass\n",
    "    m[m == '?'] = '#'\n",
    "    m[y0, x0] = 'X'\n",
    "    return m\n",
    "\n",
    "    \n",
    "\n",
    "        \n"
   ]
  },
  {
   "cell_type": "code",
   "execution_count": 212,
   "metadata": {},
   "outputs": [
    {
     "name": "stdout",
     "output_type": "stream",
     "text": [
      "###########\n",
      "#####.|.|.#\n",
      "#####-#-###\n",
      "#####.#X###\n",
      "#####-#####\n",
      "#####.#####\n",
      "#####-#####\n",
      "#####.#####\n",
      "#####-#####\n",
      "#.|.|.#####\n",
      "###########\n"
     ]
    }
   ],
   "source": [
    "m = explore('^N(E|W)SSSS(WW)$')\n",
    "print(dumps(m))"
   ]
  },
  {
   "cell_type": "code",
   "execution_count": 213,
   "metadata": {},
   "outputs": [
    {
     "name": "stdout",
     "output_type": "stream",
     "text": [
      "#########\n",
      "#.|.|.|.#\n",
      "#-#######\n",
      "#.|.|.|.#\n",
      "#-#####-#\n",
      "#.#.#X|.#\n",
      "#-#-#####\n",
      "#.|.|.|.#\n",
      "#########\n",
      "\n",
      "#########\n",
      "#.|.|.|.#\n",
      "#-#######\n",
      "#.|.|.|.#\n",
      "#-#####-#\n",
      "#.#.#X|.#\n",
      "#-#-#####\n",
      "#.|.|.|.#\n",
      "#########\n",
      "\n"
     ]
    }
   ],
   "source": [
    "a = \"^ENWWW(NEEE|SSE(EE|N))$\"\n",
    "m = explore(a)\n",
    "print(dumps(m))\n",
    "\n",
    "print(\"\"\"\n",
    "#########\n",
    "#.|.|.|.#\n",
    "#-#######\n",
    "#.|.|.|.#\n",
    "#-#####-#\n",
    "#.#.#X|.#\n",
    "#-#-#####\n",
    "#.|.|.|.#\n",
    "#########\n",
    "\"\"\")"
   ]
  },
  {
   "cell_type": "code",
   "execution_count": null,
   "metadata": {},
   "outputs": [],
   "source": [
    "a = '^N(E|W)SSSS(WW)$'\n"
   ]
  }
 ],
 "metadata": {
  "kernelspec": {
   "display_name": "Python 3",
   "language": "python",
   "name": "python3"
  },
  "language_info": {
   "codemirror_mode": {
    "name": "ipython",
    "version": 3
   },
   "file_extension": ".py",
   "mimetype": "text/x-python",
   "name": "python",
   "nbconvert_exporter": "python",
   "pygments_lexer": "ipython3",
   "version": "3.6.6"
  }
 },
 "nbformat": 4,
 "nbformat_minor": 2
}
